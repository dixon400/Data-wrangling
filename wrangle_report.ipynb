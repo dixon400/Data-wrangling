{
 "cells": [
  {
   "cell_type": "markdown",
   "id": "2047b110",
   "metadata": {},
   "source": [
    "<h1> WRANGLE REPORT </h1>\n",
    "\n",
    "<h2> Introduction </h2>\n",
    "    This project implements the data wrangling process for the tweet archive \"WeRateDogs\" which is a twitter account that rates dogs with a funny comment about the dog. I followed the 'Gather-Access-Clean' method of the data wrangling process.\n",
    "    \n",
    "<h3> Gather Data </h3>\n",
    "<b> The Twitter Archive </b>: This data was provided by udacity and was downloaded manually as a csv file and read with pandas read_csv method. It consists of about 2000+ rows of data.\n",
    "\n",
    "<b> Image Prediction </b>: This is a tsv file that was provided by udacity as a url link and it was downloaded programatically. The python request library was used to complete this.\n",
    "\n",
    "<b> Twitter Data </b>: Ideally, this should be downloaded programatically from twitter using tweepy and the twitter api. Unfortunately, I do not have the credentials to call twitter api, hence Udacity provided this.\n",
    "\n",
    "<h3> Access Data </h3>\n",
    "    <blockquote>All files were read with the pandas read_csv method and each was passed into a variable as dataframe.\n",
    "Each of the data frames were evaluated visually and programmatically. The following quality and tidiness issues were\n",
    "observed during the assessment.</blockquote>\n",
    "<h3> Quality Issues </h3>\n",
    "<b> The Twitter Archive </b>:\n",
    "<ul>\n",
    "    <li>The source value is in HTML format. It should be in strings</li>\n",
    "    <li>\"None\" is not a dog name, remove values with \"none\".</li>\n",
    "    <li>Missing URLs in expanded_urls</li>\n",
    "    <li>Drop rows with NA in the retweeted_status_id </li>\n",
    "    <li> Change source type to Category  </li>\n",
    "</ul>\n",
    "\n",
    "<b> Image Prediction </b>:\n",
    "<ul>\n",
    "    <li>Remove duplicate jpg_url entries</li>\n",
    "    <li>Missing images</li>\n",
    "    <li> Drop image number column </li>\n",
    "    <li>Erroneous datatype (tweet_id)</li>\n",
    "</ul>\n",
    "\n",
    "<b> Twitter Data </b>:\n",
    "<ul>\n",
    "    <li>Remove duplicate jpg_url entries</li>\n",
    "    <li>Erroneous datatype (tweet_id)</li>\n",
    "</ul>\n",
    "<h3> Tidiness Issues </h3>\n",
    "    - The columns on the df_prediction table should be on the archive table.<br>\n",
    "    - The tweet_json should be merged with the archive table.\n",
    "    - The dog stages should be a column.\n",
    "\n",
    "<h3> Clean Data </h3>\n",
    "    I used the define-code-test approach to handle the quality and tidiness issues found in the data set."
   ]
  },
  {
   "cell_type": "code",
   "execution_count": null,
   "id": "7a9b35dc",
   "metadata": {},
   "outputs": [],
   "source": []
  }
 ],
 "metadata": {
  "kernelspec": {
   "display_name": "Python 3 (ipykernel)",
   "language": "python",
   "name": "python3"
  },
  "language_info": {
   "codemirror_mode": {
    "name": "ipython",
    "version": 3
   },
   "file_extension": ".py",
   "mimetype": "text/x-python",
   "name": "python",
   "nbconvert_exporter": "python",
   "pygments_lexer": "ipython3",
   "version": "3.9.7"
  }
 },
 "nbformat": 4,
 "nbformat_minor": 5
}
